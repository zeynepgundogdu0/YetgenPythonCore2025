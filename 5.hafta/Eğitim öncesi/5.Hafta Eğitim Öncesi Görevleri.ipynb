{
 "cells": [
  {
   "cell_type": "markdown",
   "metadata": {
    "id": "hpyeSHc7K1aN"
   },
   "source": [
    "# Problem 1\n",
    "Bir YetGenli yeni aldığı bahçesinin etrafına çit çevirmek istiyor. Bahçenin etrafını çit ile çevirmek için gerekli çit uzunluğunu ve bahçenin alanını hesaplayan fonksiyonu yazınız."
   ]
  },
  {
   "cell_type": "code",
   "execution_count": null,
   "metadata": {
    "id": "HfCgs5BHK1aT"
   },
   "outputs": [],
   "source": [
    "# 1.Problemin Çözümünü Buraya Yazınız\n",
    "def bahce_hesap(kisa_kenar, uzun_kenar):\n",
    "    cevre = 2 * (kisa_kenar + uzun_kenar)\n",
    "    \n",
    "    alan = kisa_kenar * uzun_kenar\n",
    "    \n",
    "    return cevre, alan\n",
    "\n",
    "kisa_kenar = float(input(\"Kısa kenar uzunluğunu giriniz (metre): \"))\n",
    "uzun_kenar = float(input(\"Uzun kenar uzunluğunu giriniz (metre): \"))\n",
    "\n",
    "cevre, alan = bahce_hesap(kisa_kenar , uzun_kenar)\n",
    "\n",
    "print(f\"Bahçenin çevresini çevirmek için gerekli çit uzunluğu: {cevre} metredir. \")\n",
    "print(f\"Bahçenin alanı: {alan} metrekaredir. \")\n"
   ]
  },
  {
   "cell_type": "markdown",
   "metadata": {
    "id": "L90q8kwQK1aW"
   },
   "source": [
    "# Problem 2\n",
    "Kendisine gönderilen 2 sayı arasındaki tüm asal sayıları bulan fonksiyonu yazınız."
   ]
  },
  {
   "cell_type": "code",
   "execution_count": null,
   "metadata": {
    "id": "VxbxzQXdK1aX"
   },
   "outputs": [],
   "source": [
    "sayi1 = int(input(\"1. sayıyı giriniz: \"))\n",
    "sayi2 = int(input(\"2. sayıyı giriniz: \"))\n",
    "\n",
    "if sayi1 > sayi2:\n",
    "    print(\"UYARI !!! : 1. sayı 2. sayıdan büyük olamaz.\")\n",
    "else:\n",
    "    print(sayi1, \"ile\", sayi2, \"arasındaki asal sayılar: \")\n",
    "\n",
    "    for sayi in range(sayi1, sayi2 + 1):\n",
    "        if sayi > 1:\n",
    "            asal = True  \n",
    "            for i in range(2, int(sayi**0.5) + 1): \n",
    "                if (sayi % i) == 0:\n",
    "                    asal = False  \n",
    "                    break\n",
    "            if asal: \n",
    "                print(sayi)\n"
   ]
  },
  {
   "cell_type": "code",
   "execution_count": null,
   "metadata": {},
   "outputs": [],
   "source": [
    "sayi1 = int(input(\" 1.sayıyı giriniz: \"))\n",
    "sayi2 = int(input(\"2. sayıyı giriniz: \"))\n",
    "print( sayi1 , \"ile\" , sayi2 , \"arasındaki asal sayılar : \")\n",
    "for sayi in range(sayi1 , sayi2 + 1):\n",
    "   if sayi > 1:\n",
    "       for i in range(2,sayi):\n",
    "           if (sayi % i) == 0:\n",
    "               break\n",
    "       else:\n",
    "           print(sayi)"
   ]
  },
  {
   "cell_type": "markdown",
   "metadata": {
    "id": "OqbcX2FPK1aY"
   },
   "source": [
    "# Problem 3\n",
    "YetGen liderlerinin kurdukları girişim unicorn oluyor. YetGen liderleri iş arkadaşlarının alacağı ücretlerini hesaplamak için bir fonksiyon yazdılar. Bu fonksiyonu kullanarak, YetGen liderlerinin iş arkadaşlarına verecekleri ücretleri hesaplayınız.\n",
    "\n",
    "Ücret hesaplanması çalışma saatine bağlıdır. Bunun için kullanıcıdan çalışma saati bilgisinn alın. Sonrasında yapılacak ödemenin hesaplanacağı computePay() adlı bir fonksiyon oluşturun. Bu fonksiyonun içinde işlemler yapın. Çalışma saati 40 ve altındaysa saat başına ücret 10 TL’dir. 40 saatin üstünde çalışıldıysa saat başına ücret 15 TL sayılmaktadır.\n",
    "\n",
    "```\n",
    "Test etmek için 30 saat değerini giriniz,  sonuç 300 TL çıkmalı, \n",
    "ikincil test olarak 50 değerini giriniz,  sonuç 750 TL çıkmalı.\n",
    "```"
   ]
  },
  {
   "cell_type": "code",
   "execution_count": null,
   "metadata": {
    "id": "Uhg6Gcc1K1aZ"
   },
   "outputs": [],
   "source": [
    "# 3.Problemin Çözümünü Buraya Yazınız\n",
    "\n",
    "work_hours = int(input(\"Haftalık toplam çalışma saatinizi giriniz: \"))\n",
    "def computePay(work_hours): \n",
    "    if work_hours <= 40:\n",
    "        payment = work_hours * 10      # 40 saat ve altında çalışma varsa saatlik ücret 10 tl \n",
    "\n",
    "    else:\n",
    "        payment = work_hours * 15         # 40 saat üzeri çalışma varsa saatlik ücret 15 tl \n",
    "    return payment\n",
    "salary = computePay(work_hours)\n",
    "print(\"Çalışana ödenecek toplam tutar: \" , salary , \"TL'dir. \")"
   ]
  },
  {
   "cell_type": "markdown",
   "metadata": {
    "id": "V0BeBR90K1aZ"
   },
   "source": [
    "# Problem 4\n",
    "YetGenliler zirveye gitmek için toplanıyor. Zirveye gitmek için kiraladıkları araçlar 4'er kişiliktir. Gelecek kişi sayısı için Airtable üzerinde form açılıyor. Gelecek kişi sayısını alıp dört kişilik araçlara bölüp kalan kişi sayısını döndüren bir fonksiyon yazınız."
   ]
  },
  {
   "cell_type": "code",
   "execution_count": null,
   "metadata": {
    "id": "AC8x-EQlK1aa"
   },
   "outputs": [],
   "source": [
    "# 4.Problemin Çözümünü Buraya Yazınız\n",
    "\n",
    "def kalan_kisi_sayisi(kisi_sayisi):\n",
    "    kalan = kisi_sayisi % 4\n",
    "    return kalan\n",
    "\n",
    "kisi_sayisi = int(input(\"Gelecek kişi sayısını girin: \"))\n",
    "\n",
    "kalan_kisi = kalan_kisi_sayisi(kisi_sayisi)\n",
    "print(f\"Kalan kişi sayısı: {kalan_kisi}\")\n"
   ]
  },
  {
   "cell_type": "markdown",
   "metadata": {
    "id": "dWcDwEVjK1ab"
   },
   "source": [
    "# Problem 5\n",
    "sayiTopla() adında bir fonksiyon yazın. sayiTopla() fonksiyonu girilen sayıları toplayarak yazdırmasını sağlayan bir fonksiyon yazınız.\n",
    "\n",
    "Örneğin sayiTopla(1,2,3,4,5) yazdığımızda 15 çıktısını almalıyız. sayiTopla(1,2,3,4,5,6,7,8,9,10) yazdığımızda 55 çıktısını almalıyız."
   ]
  },
  {
   "cell_type": "code",
   "execution_count": null,
   "metadata": {
    "id": "fmCZcLM2K1ad"
   },
   "outputs": [],
   "source": [
    "# 5.Problemin Çözümünü Buraya Yazınız\n",
    "\n",
    "def sayiTopla(*sayilar):\n",
    "    toplam = sum(sayilar)  \n",
    "    print(toplam)          \n",
    "\n",
    "sayiTopla(1,2,3,4,5,6,7,8)"
   ]
  },
  {
   "cell_type": "markdown",
   "metadata": {
    "id": "kd9edMkoK1ae"
   },
   "source": [
    "# Problem 6\n",
    "\n",
    "[(\"xxx\",1),(\"xxx\",2),(\"xxx\",9),(\"xxx\",3), (\"xxx\",1),(\"xxx\",13),(\"xxx\",26),(\"xxx\",4)] listesi içerisinde verilen elemanların her birini tuple içindeki 2. Elemana göre sıralayınız. \n",
    "\n"
   ]
  },
  {
   "cell_type": "code",
   "execution_count": null,
   "metadata": {
    "id": "Jk4tgaH3K1af"
   },
   "outputs": [],
   "source": [
    "# 6.Problemin Çözümünü Buraya Yazınız\n",
    "\n",
    "liste = [(\"xxx\", 1), (\"xxx\", 2), (\"xxx\", 9), (\"xxx\", 3), (\"xxx\", 1), (\"xxx\", 13), (\"xxx\", 26), (\"xxx\", 4)]\n",
    "\n",
    "sirali_liste = sorted(liste, key=lambda x: x[1])\n",
    "\n",
    "print(sirali_liste)"
   ]
  },
  {
   "cell_type": "markdown",
   "metadata": {
    "id": "V0yKbDraK1af"
   },
   "source": [
    "# Problem 7\n",
    "List comprehension kullanarak 1'den 100'e kadar olan sayılardan sadece çift sayıları bir listeye atmayı yapmayı çalışın."
   ]
  },
  {
   "cell_type": "code",
   "execution_count": null,
   "metadata": {
    "id": "iHosmISJK1ag"
   },
   "outputs": [],
   "source": [
    "# 7.Problemin Çözümünü Buraya Yazınız\n",
    "\n",
    "cift_sayilar = []  \n",
    "for sayi in range(1, 101):  \n",
    "    if sayi % 2 == 0:  \n",
    "        cift_sayilar.append(sayi) \n",
    "\n",
    "print(cift_sayilar)\n"
   ]
  }
 ],
 "metadata": {
  "colab": {
   "provenance": []
  },
  "kernelspec": {
   "display_name": "Python 3",
   "language": "python",
   "name": "python3"
  },
  "language_info": {
   "codemirror_mode": {
    "name": "ipython",
    "version": 3
   },
   "file_extension": ".py",
   "mimetype": "text/x-python",
   "name": "python",
   "nbconvert_exporter": "python",
   "pygments_lexer": "ipython3",
   "version": "3.13.2"
  },
  "orig_nbformat": 4
 },
 "nbformat": 4,
 "nbformat_minor": 0
}
