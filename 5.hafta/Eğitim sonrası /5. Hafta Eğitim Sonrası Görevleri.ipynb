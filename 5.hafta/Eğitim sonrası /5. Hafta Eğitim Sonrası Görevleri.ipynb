{
 "cells": [
  {
   "cell_type": "markdown",
   "metadata": {
    "id": "Rm1DKmXZM-Ja"
   },
   "source": [
    "# Problem 1\n",
    "\n",
    "Fizikte, bir nesnenin sabit ivmeyle hareket ederken son hızını \n",
    "(veya hızını) bulmak için aşağıdaki denklem kullanılabilir:\n",
    "```\n",
    "vf = vi + at\n",
    "burada:\n",
    "vf= son hız\n",
    "vi= ilk hız\n",
    "a= hızlanma\n",
    "t= zaman\n",
    "```\n",
    "İlk hız, ivme ve zaman verildiğinde, son hızı döndürecek bir fonksiyon yazın."
   ]
  },
  {
   "cell_type": "code",
   "execution_count": null,
   "metadata": {
    "id": "vWrjJiV0M-Jk"
   },
   "outputs": [],
   "source": [
    "# 1.Problemin Çözümünü Buraya Yazınız\n",
    "def final_velocity(vi , a , t ):\n",
    "    return vi + (a * t) \n",
    "   \n",
    "vi = float(input(\"İlk hızı giriniz:  (m/s)\"))\n",
    "a = float(input(\"İvmeyi giriniz:  (m/s^2)\"))\n",
    "t = float(input(\"Geçen zamanı giriniz:  (s)\"))\n",
    "\n",
    "vf = final_velocity(vi , a , t )\n",
    "print(\"Son hızınız: \" , vf , \"m/s'dir. \")\n"
   ]
  },
  {
   "cell_type": "markdown",
   "metadata": {
    "id": "uAHpyY5HM-Jq"
   },
   "source": [
    "# Problem 2\n",
    "\n",
    "1'den 1000'e kadar olan sayılardan mükemmel sayı olanları ekrana yazdırın. Bunun için bir sayının mükemmel olup olmadığını dönen bir tane fonksiyon yazın.\n",
    "\n",
    "Bir sayının bölenlerinin toplamı kendine eşitse bu sayı mükemmel bir sayıdır. Örnek olarak 6 mükemmel bir sayıdır (1 + 2 + 3 = 6)."
   ]
  },
  {
   "cell_type": "code",
   "execution_count": null,
   "metadata": {
    "id": "yrY4Y5ncM-Jr"
   },
   "outputs": [],
   "source": [
    "# 2.Problemin Çözümünü Buraya Yazınız\n",
    "\n",
    "def perfect_number(x):\n",
    "    toplam = 0 \n",
    "    for i in range (1,x): \n",
    "       if x % i == 0:\n",
    "        toplam = (toplam + i)\n",
    "        if toplam == x :\n",
    "            return True\n",
    "    else: \n",
    "       return False \n",
    "    \n",
    "\n",
    "for num in range (1, 1001):\n",
    "   if perfect_number(num):     \n",
    "      print(\"Mükkemel sayı: \" , num )    "
   ]
  },
  {
   "cell_type": "markdown",
   "metadata": {
    "id": "C2-XwlJtM-Jr"
   },
   "source": [
    "# Problem 3\n",
    "\n",
    "1'den 100'e kadar olan sayılardan pisagor üçgeni oluşturanları ekrana yazdıran bir fonksiyon yazın.(a <= 100,b <= 100)\n"
   ]
  },
  {
   "cell_type": "code",
   "execution_count": null,
   "metadata": {
    "id": "BMNy4xi-M-Js"
   },
   "outputs": [],
   "source": [
    "# 3.Problemin Çözümünü Buraya Yazınız\n",
    "\n",
    "def pisagor_bulma():\n",
    "\n",
    "    pisagor_liste = list()\n",
    "    for a in range (1, 101):\n",
    "        for b in range(1, 101):\n",
    "\n",
    "        ## c^2 = a^2 + b^2\n",
    "            c = (a ** 2 + b ** 2) ** 0.5\n",
    "\n",
    "            if ( c == int(c) ):\n",
    "                 pisagor_liste.append((a , b , int(c)))\n",
    "\n",
    "    return pisagor_liste\n",
    "\n",
    "for a in pisagor_bulma():\n",
    "    print(a)\n"
   ]
  },
  {
   "cell_type": "markdown",
   "metadata": {
    "id": "oPfmWi4jM-Js"
   },
   "source": [
    "# Problem 4\n",
    "\n",
    "Bir duvar boyamaya karar verdiniz. Boya kutusunun üzerindeki talimatta, 1 kutu boyanın 5 metrekarelik bir duvarı boyayabileceği yazıyor. Rastgele bir duvar yüksekliği ve genişliği verildiğinde, kaç kutu boya satın almanız gerektiğini hesaplayın.\n",
    "\n",
    "kutu sayısı = (duvar yüksekliği * duvar genişliği) ÷ kutu başına kaplama.\n",
    "\n",
    "örneğin Yükseklik = 2, Genişlik = 4, Kaplama = 5\n",
    "\n",
    "kutu sayısı = (2 * 4) ÷ 5 = 1.6\n",
    "\n",
    "Ancak bir kutu boyanın 0,6'sını satın alamayacağınız için, sonuç 2 kutuya yuvarlanmalıdır .\n"
   ]
  },
  {
   "cell_type": "code",
   "execution_count": null,
   "metadata": {
    "id": "0zuyzSp5M-Jt"
   },
   "outputs": [],
   "source": [
    "# 4.Problemin Çözümünü Buraya Yazınız"
   ]
  },
  {
   "cell_type": "markdown",
   "metadata": {
    "id": "pe6TJuBBM-Ju"
   },
   "source": [
    "# Problem 5\n",
    "\n",
    "Bir kelimedeki ünlü ve ünsüz harfleri sayan bir fonksiyon yazınız."
   ]
  },
  {
   "cell_type": "code",
   "execution_count": null,
   "metadata": {
    "id": "LJ0opjiLM-Ju"
   },
   "outputs": [],
   "source": [
    "# 5.Problemin Çözümünü Buraya Yazınız"
   ]
  },
  {
   "cell_type": "markdown",
   "metadata": {
    "id": "Lfls2YTXM-Jv"
   },
   "source": [
    "# Problem 6\n",
    "\n",
    "Verilen bir listeden çift sayıları yazdıran bir fonksiyon yazınız.\n"
   ]
  },
  {
   "cell_type": "code",
   "execution_count": null,
   "metadata": {
    "id": "qUwsL20IM-Jv"
   },
   "outputs": [],
   "source": [
    "# 6.Problemin Çözümünü Buraya Yazınız"
   ]
  },
  {
   "cell_type": "markdown",
   "metadata": {
    "id": "IPp724iIM-Jy"
   },
   "source": [
    "# Problem 7\n",
    "\n",
    "0'dan 10'a kadar olan sayıların toplamını hesaplayan özyinelemeli (Recursive Function) bir fonksiyon oluşturan bir fonksiyon yazınız.\n",
    "\n",
    "Özyinelemeli (Recursive Function) bir işlev, kendini tekrar tekrar çağıran bir işlevdir."
   ]
  },
  {
   "cell_type": "code",
   "execution_count": null,
   "metadata": {
    "id": "KFW6xhTJM-Jz"
   },
   "outputs": [],
   "source": [
    "# 7.Problemin Çözümünü Buraya Yazınız"
   ]
  }
 ],
 "metadata": {
  "colab": {
   "provenance": []
  },
  "kernelspec": {
   "display_name": "Python 3",
   "language": "python",
   "name": "python3"
  },
  "language_info": {
   "codemirror_mode": {
    "name": "ipython",
    "version": 3
   },
   "file_extension": ".py",
   "mimetype": "text/x-python",
   "name": "python",
   "nbconvert_exporter": "python",
   "pygments_lexer": "ipython3",
   "version": "3.13.2"
  },
  "orig_nbformat": 4
 },
 "nbformat": 4,
 "nbformat_minor": 0
}
