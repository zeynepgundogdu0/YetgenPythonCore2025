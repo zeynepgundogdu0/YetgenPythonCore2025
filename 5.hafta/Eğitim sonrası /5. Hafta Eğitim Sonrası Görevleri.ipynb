{
 "cells": [
  {
   "cell_type": "markdown",
   "metadata": {
    "id": "Rm1DKmXZM-Ja"
   },
   "source": [
    "# Problem 1\n",
    "\n",
    "Fizikte, bir nesnenin sabit ivmeyle hareket ederken son hızını \n",
    "(veya hızını) bulmak için aşağıdaki denklem kullanılabilir:\n",
    "```\n",
    "vf = vi + at\n",
    "burada:\n",
    "vf= son hız\n",
    "vi= ilk hız\n",
    "a= hızlanma\n",
    "t= zaman\n",
    "```\n",
    "İlk hız, ivme ve zaman verildiğinde, son hızı döndürecek bir fonksiyon yazın."
   ]
  },
  {
   "cell_type": "code",
   "execution_count": null,
   "metadata": {
    "id": "vWrjJiV0M-Jk"
   },
   "outputs": [],
   "source": [
    "# 1.Problemin Çözümünü Buraya Yazınız\n",
    "def final_velocity(vi , a , t ):\n",
    "    return vi + (a * t) \n",
    "   \n",
    "vi = float(input(\"İlk hızı giriniz:  (m/s)\"))\n",
    "a = float(input(\"İvmeyi giriniz:  (m/s^2)\"))\n",
    "t = float(input(\"Geçen zamanı giriniz:  (s)\"))\n",
    "\n",
    "vf = final_velocity(vi , a , t )\n",
    "print(\"Son hızınız: \" , vf , \"m/s'dir. \")\n"
   ]
  },
  {
   "cell_type": "markdown",
   "metadata": {
    "id": "uAHpyY5HM-Jq"
   },
   "source": [
    "# Problem 2\n",
    "\n",
    "1'den 1000'e kadar olan sayılardan mükemmel sayı olanları ekrana yazdırın. Bunun için bir sayının mükemmel olup olmadığını dönen bir tane fonksiyon yazın.\n",
    "\n",
    "Bir sayının bölenlerinin toplamı kendine eşitse bu sayı mükemmel bir sayıdır. Örnek olarak 6 mükemmel bir sayıdır (1 + 2 + 3 = 6)."
   ]
  },
  {
   "cell_type": "code",
   "execution_count": null,
   "metadata": {
    "id": "yrY4Y5ncM-Jr"
   },
   "outputs": [],
   "source": [
    "# 2.Problemin Çözümünü Buraya Yazınız\n",
    "\n",
    "def perfect_number(x):\n",
    "    toplam = 0 \n",
    "    for i in range (1,x): \n",
    "       if x % i == 0:\n",
    "        toplam = (toplam + i)\n",
    "        if toplam == x :\n",
    "            return True\n",
    "    else: \n",
    "       return False \n",
    "    \n",
    "\n",
    "for num in range (1, 1001):\n",
    "   if perfect_number(num):     \n",
    "      print(\"Mükkemel sayı: \" , num )    "
   ]
  },
  {
   "cell_type": "code",
   "execution_count": null,
   "metadata": {},
   "outputs": [],
   "source": [
    "## Atölye çözümü ##\n",
    "\n",
    "def mukkemmel_mi(sayi):\n",
    "    toplam =0\n",
    "    for i in range(1,sayi):\n",
    "        if (sayi%i == 0 ):\n",
    "            toplam+=i\n",
    "    return toplam == sayi\n",
    "for i in range(1,1001):\n",
    "    if(mukkemmel_mi(i)):\n",
    "        print(i, \"Mükkemel bir sayıdır.\")"
   ]
  },
  {
   "cell_type": "markdown",
   "metadata": {
    "id": "C2-XwlJtM-Jr"
   },
   "source": [
    "# Problem 3\n",
    "\n",
    "1'den 100'e kadar olan sayılardan pisagor üçgeni oluşturanları ekrana yazdıran bir fonksiyon yazın.(a <= 100,b <= 100)\n"
   ]
  },
  {
   "cell_type": "code",
   "execution_count": null,
   "metadata": {
    "id": "BMNy4xi-M-Js"
   },
   "outputs": [],
   "source": [
    "# 3.Problemin Çözümünü Buraya Yazınız\n",
    "\n",
    "def pisagor_bulma():\n",
    "\n",
    "    pisagor_liste = list()\n",
    "    for a in range (1, 101):\n",
    "        for b in range(1, 101):\n",
    "\n",
    "        ## c^2 = a^2 + b^2\n",
    "            c = (a ** 2 + b ** 2) ** 0.5\n",
    "\n",
    "            if ( c == int(c) ):\n",
    "                 pisagor_liste.append((a , b , int(c)))\n",
    "\n",
    "    return pisagor_liste\n",
    "\n",
    "for a in pisagor_bulma():\n",
    "    print(a)\n"
   ]
  },
  {
   "cell_type": "markdown",
   "metadata": {
    "id": "oPfmWi4jM-Js"
   },
   "source": [
    "# Problem 4\n",
    "\n",
    "Bir duvar boyamaya karar verdiniz. Boya kutusunun üzerindeki talimatta, 1 kutu boyanın 5 metrekarelik bir duvarı boyayabileceği yazıyor. Rastgele bir duvar yüksekliği ve genişliği verildiğinde, kaç kutu boya satın almanız gerektiğini hesaplayın.\n",
    "\n",
    "kutu sayısı = (duvar yüksekliği * duvar genişliği) ÷ kutu başına kaplama.\n",
    "\n",
    "örneğin Yükseklik = 2, Genişlik = 4, Kaplama = 5\n",
    "\n",
    "kutu sayısı = (2 * 4) ÷ 5 = 1.6\n",
    "\n",
    "Ancak bir kutu boyanın 0,6'sını satın alamayacağınız için, sonuç 2 kutuya yuvarlanmalıdır .\n"
   ]
  },
  {
   "cell_type": "code",
   "execution_count": null,
   "metadata": {
    "id": "0zuyzSp5M-Jt"
   },
   "outputs": [],
   "source": [
    "# 4.Problemin Çözümünü Buraya Yazınız\n",
    "yukseklik = float(input(\"Duvar yüksekliğini metre cinsinden giriniz: \"))\n",
    "genislik = float(input(\"Duvar genişliğini metre cinsinden giriniz: \"))\n",
    "kaplama = float(input(\"Bir kutunun boyayabildiği alanı metrekare cinsinden giriniz: \"))\n",
    "\n",
    "duvarın_alanı = yukseklik * genislik \n",
    "kutu_sayisi = duvarın_alanı / kaplama \n",
    "\n",
    "if kutu_sayisi > int(kutu_sayisi):\n",
    "    kutu_sayisi = int(kutu_sayisi) + 1 \n",
    "\n",
    "else: \n",
    "    kutu_sayisi = int(kutu_sayisi)\n",
    "\n",
    "print(\"Duvar boyaması için gerekli olan kutu sayısı: \" , kutu_sayisi )    "
   ]
  },
  {
   "cell_type": "markdown",
   "metadata": {
    "id": "pe6TJuBBM-Ju"
   },
   "source": [
    "# Problem 5\n",
    "\n",
    "Bir kelimedeki ünlü ve ünsüz harfleri sayan bir fonksiyon yazınız."
   ]
  },
  {
   "cell_type": "code",
   "execution_count": null,
   "metadata": {
    "id": "LJ0opjiLM-Ju"
   },
   "outputs": [],
   "source": [
    "# 5.Problemin Çözümünü Buraya Yazınız\n",
    "def harf_say(kelime):\n",
    "    unlu_harfler = \"aeiouAEIOU\" \n",
    "    unlu_sayisi = 0\n",
    "    unsuz_sayisi = 0\n",
    "    \n",
    "    for harf in kelime:\n",
    "        if harf.isalpha():\n",
    "            if harf in unlu_harfler:\n",
    "                unlu_sayisi += 1\n",
    "            else:\n",
    "                unsuz_sayisi += 1\n",
    "                \n",
    "    return unlu_sayisi, unsuz_sayisi\n",
    "kelime = input(\"Kontrol etmek istediğiniz kelimeyi yazınız: \")\n",
    "unlu, unsuz = harf_say(kelime)\n",
    "print(f\"Kelime: {kelime}\")\n",
    "print(f\"Unlu harf sayısı: {unlu}\")\n",
    "print(f\"Unsuz harf sayısı: {unsuz}\")\n"
   ]
  },
  {
   "cell_type": "code",
   "execution_count": 4,
   "metadata": {},
   "outputs": [],
   "source": [
    "## Atölye Çözümü ## \n",
    "\n",
    "def count(val):\n",
    "    wow= 0 \n",
    "    con = 0 \n",
    "    for i in range(len(val)):\n",
    "        if val[i] in ['a', 'e', 'i', 'o', 'u']:\n",
    "            wow+=1\n",
    "        else:\n",
    "            con= con+1\n",
    "\n",
    "    print(\"Ünlü harf sayısı:\" , wow)\n",
    "    print(\"Ünsüz harf sayısı: \" , con)\n"
   ]
  },
  {
   "cell_type": "markdown",
   "metadata": {
    "id": "Lfls2YTXM-Jv"
   },
   "source": [
    "# Problem 6\n",
    "\n",
    "Verilen bir listeden çift sayıları yazdıran bir fonksiyon yazınız.\n"
   ]
  },
  {
   "cell_type": "code",
   "execution_count": null,
   "metadata": {
    "id": "qUwsL20IM-Jv"
   },
   "outputs": [],
   "source": [
    "# 6.Problemin Çözümünü Buraya Yazınız\n",
    "\n",
    "def cift_sayi_yazdir( baslangic , bitis):\n",
    "    cift_sayılar = []\n",
    "\n",
    "    for sayi in range(baslangic , bitis + 1 ): \n",
    "        if sayi % 2 == 0: \n",
    "            cift_sayılar.append(sayi)\n",
    "        \n",
    "    print(\"Listedeki çift sayılar: \" , cift_sayılar)\n",
    "\n",
    "\n",
    "baslangic = int(input(\"Aralık belirlemek için bir başlangıç sayısı belirleyin. Başlangıç sayısını giriniz: \"))\n",
    "bitis = int(input(\"Aralık belirlemek için bir bitiş sayısı belirleyin. Bitiş sayısını giriniz: \"))\n",
    "\n",
    "cift_sayi_yazdir(baslangic, bitis)"
   ]
  },
  {
   "cell_type": "markdown",
   "metadata": {
    "id": "IPp724iIM-Jy"
   },
   "source": [
    "# Problem 7\n",
    "\n",
    "0'dan 10'a kadar olan sayıların toplamını hesaplayan özyinelemeli (Recursive Function) bir fonksiyon oluşturan bir fonksiyon yazınız.\n",
    "\n",
    "Özyinelemeli (Recursive Function) bir işlev, kendini tekrar tekrar çağıran bir işlevdir."
   ]
  },
  {
   "cell_type": "code",
   "execution_count": null,
   "metadata": {
    "id": "KFW6xhTJM-Jz"
   },
   "outputs": [],
   "source": [
    "# 7.Problemin Çözümünü Buraya Yazınız\n",
    "\n",
    "def toplam_recursive_func(x): \n",
    "    if x == 0: \n",
    "        return 0\n",
    "    else: \n",
    "        return x + toplam_recursive_func(x-1)\n",
    "    \n",
    "result = toplam_recursive_func(10)\n",
    "print(\" 0'dan 10'a kadar olan sayıların toplamı: \" , result)"
   ]
  }
 ],
 "metadata": {
  "colab": {
   "provenance": []
  },
  "kernelspec": {
   "display_name": "Python 3",
   "language": "python",
   "name": "python3"
  },
  "language_info": {
   "codemirror_mode": {
    "name": "ipython",
    "version": 3
   },
   "file_extension": ".py",
   "mimetype": "text/x-python",
   "name": "python",
   "nbconvert_exporter": "python",
   "pygments_lexer": "ipython3",
   "version": "3.13.2"
  },
  "orig_nbformat": 4
 },
 "nbformat": 4,
 "nbformat_minor": 0
}
