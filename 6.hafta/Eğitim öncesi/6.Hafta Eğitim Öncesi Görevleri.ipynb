{
 "cells": [
  {
   "cell_type": "markdown",
   "metadata": {
    "id": "4i4T2_mYtDbK"
   },
   "source": [
    "# Problem 1\n",
    "Elinizde bir dikdörtgenin kenarlarını ifade eden sayı çiftlerinin bulunduğu bir liste olsun.\n",
    "\n",
    "     [(3,4),(10,3),(5,6),(1,9)]\n",
    "\n",
    "Şimdi kenar uzunluklarına göre dikdörtgenin alanını hesaplayan bir fonksiyon yazın ve bu listenin her bir elemanına bu fonksiyonu uygulayarak ekrana şöyle bir liste yazdırın.\n",
    "\n",
    "     [12, 30, 30, 9]\n",
    "\n",
    "İpucu : map() fonksiyonunu kullanmaya çalışın."
   ]
  },
  {
   "cell_type": "code",
   "execution_count": null,
   "metadata": {
    "id": "7sIq-jJwtDbN"
   },
   "outputs": [],
   "source": [
    "# 1.Problemin Çözümünü Buraya Yazınız\n",
    "\n",
    "def alan_hesapla(dikdortgen):\n",
    "    return dikdortgen [0] * dikdortgen[1]\n",
    "dikdortgen_liste = [(3,4),(10,3),(5,6),(1,9)]\n",
    "alan = list(map(alan_hesapla, dikdortgen_liste))\n",
    "print(alan)\n"
   ]
  },
  {
   "cell_type": "markdown",
   "metadata": {
    "id": "mDPVivNxtDbO"
   },
   "source": [
    "# Problem 2\n",
    "\n",
    "Elinizden her bir elemanı 3'lü bir demet olan bir liste olsun.\n",
    "\n",
    " ```[(3,4,5),(6,8,10),(3,10,7)]```\n",
    "\n",
    "Şimdi kenar uzunluklarına göre bu kenarların bir üçgen oluşturup oluşturmadığını döndüren bir fonksiyon yazın ve sadece üçgen oluşturan kenarları bulunduran listeyi ekrana yazdırın.\n",
    "\n",
    " ```[(3, 4, 5), (6, 8, 10)]```\n",
    "\n",
    "İpucu: filter() fonksiyonunu kullanmaya çalışın."
   ]
  },
  {
   "cell_type": "code",
   "execution_count": null,
   "metadata": {
    "id": "nf-hi67xtDbP"
   },
   "outputs": [],
   "source": [
    "# 2.Problemin Çözümünü Buraya Yazınız\n",
    "\n",
    "def ucgen_mi(kenarlar):\n",
    "    a, b, c = sorted(kenarlar)  \n",
    "    return a + b > c  \n",
    "\n",
    "kenarlar_listesi = [(3, 4, 5), (6, 8, 10), (3, 10, 7)]\n",
    "ucgenler = list(filter(ucgen_mi, kenarlar_listesi))\n",
    "\n",
    "print(ucgenler)\n"
   ]
  },
  {
   "cell_type": "markdown",
   "metadata": {
    "id": "35ur1Ul_tDbP"
   },
   "source": [
    "# Problem 3\n",
    "Elinizde aşağıdaki gibi bir liste bulunmaktadır.\n",
    "\n",
    "```[1,2,3,4,5,6,7,8,9,10]```\n",
    "\n",
    "Bu listenin içindeki çift sayıların toplamını ekrana yazdıran bir fonksiyon yazın.\n",
    "\n",
    "İpucu: İlk önce filter() fonksiyonu ile çift sayıları ayıklayın. Daha sonra reduce() fonksiyonunu kullanın."
   ]
  },
  {
   "cell_type": "code",
   "execution_count": null,
   "metadata": {
    "id": "sRPOpzAvtDbP"
   },
   "outputs": [],
   "source": [
    "# 3.Problemin Çözümünü Buraya Yazınız\n",
    "\n",
    "def sum_of_even_numbers(lst):\n",
    "    even_numbers = []\n",
    "    for num in lst:\n",
    "        if num % 2 == 0:\n",
    "            even_numbers.append(num)\n",
    "    \n",
    "    total = 0\n",
    "    for num in even_numbers:\n",
    "        total += num\n",
    "    \n",
    "    return total\n",
    "\n",
    "numbers = [1, 2, 3, 4, 5, 6, 7, 8, 9, 10]\n",
    "print(sum_of_even_numbers(numbers))\n"
   ]
  },
  {
   "cell_type": "markdown",
   "metadata": {
    "id": "b-NzXcXrtDbQ"
   },
   "source": [
    "# Problem 4\n",
    "\n",
    "Elinizde isimlerin ve soyisimlerin bulunduğu iki tane liste bulunmaktadır.\n",
    "\n",
    "    isimler -----> [\"Kerim\",\"Tarık\",\"Ezgi\",\"Kemal\",\"İlkay\",\"Şükran\",\"Merve\"]\n",
    "\n",
    "    soyisimler -----> [\"Yılmaz\",\"Öztürk\",\"Dağdeviren\",\"Atatürk\",\"Dikmen\",\"Kaya\",\"Polat\"]\n",
    "    \n",
    "Bu isimleri ve soyisimleri sırasıyla eşleştirin ve ekrana alt alta isimleri ve soyisimleri yazdırın.\n",
    "\n",
    "İpucu: zip() fonksiyonunu kullanmaya kullanın."
   ]
  },
  {
   "cell_type": "code",
   "execution_count": null,
   "metadata": {
    "id": "y_psHJSitDbQ"
   },
   "outputs": [],
   "source": [
    "# 4.Problemin Çözümünü Buraya Yazınız\n",
    "\n",
    "isimler = [\"Kerim\", \"Tarık\", \"Ezgi\", \"Kemal\", \"İlkay\", \"Şükran\", \"Merve\"]\n",
    "soyisimler = [\"Yılmaz\", \"Öztürk\", \"Dağdeviren\", \"Atatürk\", \"Dikmen\", \"Kaya\", \"Polat\"]\n",
    "\n",
    "eslesen_isim_soyisim= zip(isimler, soyisimler)\n",
    "\n",
    "for isim, soyisim in eslesen_isim_soyisim:\n",
    "  print(isim, soyisim)"
   ]
  },
  {
   "cell_type": "markdown",
   "metadata": {
    "id": "iyKtrQHmtDbQ"
   },
   "source": [
    "# Problem 5\n",
    "\n",
    "İçerisinde yetgen, core, python2, programı, 2022, basic2 elemanları bulunan bir liste oluşturun.\n",
    "\n",
    "Bu listenin içindeki stringlerden içinde sadece rakam bulunanları ekrana yazdırın. Bunu yaparken try, except bloklarını kullanmayı unutmayın."
   ]
  },
  {
   "cell_type": "code",
   "execution_count": null,
   "metadata": {
    "id": "7ckliOAftDbR"
   },
   "outputs": [],
   "source": [
    "# 5.Problemin Çözümünü Buraya Yazınız\n",
    "\n",
    "liste = [\"yetgen\", \"core\", \"python2\", \"programı\", \"2022\", \"basic2\"]\n",
    "\n",
    "def sadece_rakamlar(liste):\n",
    "    for eleman in liste:\n",
    "        try:\n",
    "            int(eleman)\n",
    "            print(eleman)  \n",
    "        except ValueError:\n",
    "            continue\n",
    "\n",
    "sadece_rakamlar(liste)\n"
   ]
  }
 ],
 "metadata": {
  "colab": {
   "provenance": []
  },
  "kernelspec": {
   "display_name": "Python 3",
   "language": "python",
   "name": "python3"
  },
  "language_info": {
   "codemirror_mode": {
    "name": "ipython",
    "version": 3
   },
   "file_extension": ".py",
   "mimetype": "text/x-python",
   "name": "python",
   "nbconvert_exporter": "python",
   "pygments_lexer": "ipython3",
   "version": "3.13.2"
  },
  "orig_nbformat": 4,
  "vscode": {
   "interpreter": {
    "hash": "5026d2d6e7aaaaba093def813beadff083d8733e4a511af01735cbabd156995d"
   }
  }
 },
 "nbformat": 4,
 "nbformat_minor": 0
}
