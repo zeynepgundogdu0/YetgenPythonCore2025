{
 "cells": [
  {
   "cell_type": "markdown",
   "metadata": {
    "id": "unoTPlV_tJOm"
   },
   "source": [
    "# Problem 1 \n",
    "Bir sayının çift olup olmadığını sorgulayan bir fonksiyon yazın. Bu fonksiyon, eğer sayı çift ise bu değeri dönsün. Ancak sayı tek sayı ise fonksiyon raise ile ValueError hatası oluştursun. Daha sonra, içinde çift ve tek sayılar bulunduran bir liste tanımlayın ve liste üzerinde gezinerek ekrana sadece çift sayıları bastırın."
   ]
  },
  {
   "cell_type": "code",
   "execution_count": null,
   "metadata": {
    "id": "7oyBSeXptJOp"
   },
   "outputs": [],
   "source": [
    "# 1.Problemin Çözümünü Buraya Yazınız\n",
    "\n",
    "def even_number_control(number):\n",
    "    if number %2 == 0:\n",
    "        return number  # return komutu, çift olan sayıları geri döndürür. \n",
    "    else:              # Diğer durumda \n",
    "        raise ValueError(\"Girdiğiniz değer tek sayıdır.\") # Eğer sayı tekse raise komutu programı durdurur. \n",
    "         # Raise valueError kullanılmasının sebebi soruda istenen durum için tek sayı geçersiz durum kabul edilir.\n",
    "    \n",
    "number_list = list(range(21))  # Range komutu list kullanılarak listeye dönüştürüldü. \n",
    "\n",
    "for number in number_list:   \n",
    "    try:      # hata olabilecek kodları güvenli şekilde çalıştırır.\n",
    "        result = even_number_control(number)\n",
    "        print(result)\n",
    "    except ValueError:\n",
    "        continue     # Döngüye sokmak için kullanıldı. "
   ]
  },
  {
   "cell_type": "markdown",
   "metadata": {
    "id": "CdfzJ2A9tJOq"
   },
   "source": [
    "# Problem 2\n",
    "\n",
    "2 YetGen lideri ders sırasında canları sıkılınca oyun oynamak isterler. Ancak hangi oyunu oynayacaklarına karar veremezler ve son olarak kendi oyunlarını yazmaya karar verirler.\n",
    "Liderlerimizin kodlamak istediği oyun kuralları şöyledir:\n",
    "- Oyunda random olarak 0 ile 100 arasında bir sayı tutulur.\n",
    "- Kullanıcıdan bilgisayarın tuttuğu sayıyı tahmin etmesi için bir sayı girmesini istenir.\n",
    "- Eğer kullanıcının girdiği sayı bulunması gereken sayıdan küçükse  tahmininizi yükseltin, büyükse tahmininizi düşürün şeklinde bir çıktı verilir.\n",
    "- Oyunun gerçeğe yakın olması için bilgisayarın çalışmasını simgelemek için 1 saniye bekleme süresi tanınır.\n",
    "- Kullanıcı 5 hakkı vardır. 5 hakkı da kullanıp sayıyı bulamazsa oyunu kaybeder."
   ]
  },
  {
   "cell_type": "code",
   "execution_count": null,
   "metadata": {
    "id": "A1VEETgCtJOr"
   },
   "outputs": [],
   "source": [
    "#2.Problemin Çözümünü Buraya Yazınız\n",
    "\n",
    "\n",
    "import random \n",
    "import time \n",
    "\n",
    "picked_number = random.randint(0, 100)\n",
    "\n",
    "tahmin_hakki = 5 \n",
    "while tahmin_hakki > 0: \n",
    "    try: \n",
    "        guess = int(input(\"Tahminini yap: \"))\n",
    "        \n",
    "        if guess < 0:\n",
    "            print(\"Pozitif tam sayı girmelisin.\")\n",
    "            continue\n",
    "\n",
    "    except ValueError:\n",
    "        print(\"İstenen aralıkta olan geçerli bir tam sayı girin.\")\n",
    "        continue\n",
    "    \n",
    "    print(\"...\")\n",
    "    time.sleep(1)\n",
    "\n",
    "    if guess == picked_number: \n",
    "        print(\"Tebrikler! Cevabın doğru. Oyunu kazandın. \")\n",
    "        break\n",
    "    elif guess < picked_number: \n",
    "        print(\"Doğru tahmin edemedin, tekrar dene. Tahminini yükselt.\")\n",
    "    else: \n",
    "        print(\"Doğru tahmin edemedin, tekrar dene. Tahminini düşür.\")\n",
    "    \n",
    "    tahmin_hakki -= 1 \n",
    "\n",
    "if tahmin_hakki == 0 and guess != picked_number:\n",
    "    print(\"Daha fazla hakkın kalmadı. Oyunu kaybettin. Tahmin edilen sayı:\", picked_number)\n"
   ]
  }
 ],
 "metadata": {
  "colab": {
   "provenance": []
  },
  "kernelspec": {
   "display_name": "Python 3",
   "language": "python",
   "name": "python3"
  },
  "language_info": {
   "codemirror_mode": {
    "name": "ipython",
    "version": 3
   },
   "file_extension": ".py",
   "mimetype": "text/x-python",
   "name": "python",
   "nbconvert_exporter": "python",
   "pygments_lexer": "ipython3",
   "version": "3.13.2"
  },
  "orig_nbformat": 4,
  "vscode": {
   "interpreter": {
    "hash": "5026d2d6e7aaaaba093def813beadff083d8733e4a511af01735cbabd156995d"
   }
  }
 },
 "nbformat": 4,
 "nbformat_minor": 0
}
