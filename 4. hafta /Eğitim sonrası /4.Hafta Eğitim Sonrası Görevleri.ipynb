{
 "cells": [
  {
   "cell_type": "markdown",
   "metadata": {},
   "source": [
    "# Problem 1\n",
    "`ogrenciler` adında bir sözlük oluşturunuz. Kullanıcıdan döngü yardımıyla 3 öğrenci için veri girmesini isteyerek öğrencilerin sırasıyla okul numarası, isim, soy isim, telefon numarası ve doğum tarihi bilgilerini alınız. Aldığınız öğrenci bilgilerini yine aynı döngü yardımıyla `ogrenciler` adındaki sözlükte saklayınız. Daha sonra öğrenci bilgilerinin bulunduğu sözlük yapısını ekrana bastırınız.\n",
    "\n"
   ]
  },
  {
   "cell_type": "code",
   "execution_count": null,
   "metadata": {},
   "outputs": [],
   "source": [
    "ogrenciler = {}\n",
    "\n",
    "for a in range(3):\n",
    "    print(f\"{a+1}. öğrencinin bilgilerini giriniz:\") \n",
    " ## {a+1} olarak yazılmasının sebebi; pythonda 0,1,2 diye sayarken öğrencileri sıraladığımızda saymaya 1,2,3 diye başlayacak o yüzden {a+1} şeklinde yazılacak.\n",
    "    \n",
    "    okul_no = input(\"Okul numarası: \")\n",
    "    isim = input(\"İsim: \")\n",
    "    soyisim = input(\"Soyisim: \")\n",
    "    telefon = input(\"Telefon numarası: \")\n",
    "    dogum_tarihi = input(\"Doğum tarihi (GG.AA.YYYY: \")\n",
    "\n",
    "    ogrenciler[okul_no] = {\n",
    "        \"İsim\": isim,\n",
    "        \"Soyisim\": soyisim,\n",
    "        \"Telefon\": telefon,\n",
    "        \"Doğum Tarihi\": dogum_tarihi\n",
    "    }\n",
    "\n",
    "\n",
    "\n",
    "print(\"Öğrenci Bilgileri:\")\n",
    "for okul_no, ogrencibilgi in ogrenciler.items(): ## .items komutu key-value çiftlerini birlikte görmek için kullanıldı. \n",
    "    print(f\"Okul Numarası: {okul_no}\")\n",
    "    print(f\"İsim: {ogrencibilgi['İsim']}\")\n",
    "    print(f\"Soyisim: {ogrencibilgi['Soyisim']}\")\n",
    "    print(f\"Telefon: {ogrencibilgi['Telefon']}\")\n",
    "    print(f\"Doğum Tarihi: {ogrencibilgi['Doğum Tarihi']}\")\n",
    "    \n",
    "    \n",
    "    print(\"Öğrencilerin bilgileri başarılı bir şekilde sisteme kaydedildi. \")  \n"
   ]
  },
  {
   "cell_type": "markdown",
   "metadata": {},
   "source": [
    "# Problem 2\n",
    "\n",
    "### a - Biraz ısınarak başlayalım!\n",
    "\n",
    "```\n",
    "numbers = [5,10,10,15,15,15,20,20,20,20]\n",
    "```\n",
    "\n",
    "Yukarıda `numbers` adında 10 elemanlı bir liste verilmiştir. Bu listenin her elemanını kontrol eden ve tekrar eden elemanları bir kez olacak şekilde başka bir listeye kopyalayan bir program yazınız. Son olarak oluşturduğunuz listeyi ekrana bastırınız.\n",
    "\n",
    "\n",
    "\n",
    "\n",
    "```\n",
    ">Output\n",
    "[5, 10, 15, 20]\n",
    "```\n"
   ]
  },
  {
   "cell_type": "code",
   "execution_count": 8,
   "metadata": {},
   "outputs": [
    {
     "name": "stdout",
     "output_type": "stream",
     "text": [
      "[5, 10, 15, 20]\n"
     ]
    }
   ],
   "source": [
    "# 2.Problemin a Şıkkının Çözümünü Buraya Yazınız\n",
    "\n",
    "numbers = [5,10,10,15,15,15,20,20,20,20]\n",
    "output_numbers = []\n",
    "for number in numbers:\n",
    "    if number not in output_numbers: \n",
    "        output_numbers.append(number)\n",
    "\n",
    "print(output_numbers)"
   ]
  },
  {
   "cell_type": "markdown",
   "metadata": {},
   "source": [
    "### 🌶️ b) Hadi işi biraz daha zorlaştıralım! \n",
    "\n",
    "\n",
    "Şimdiyse senden `numbers` isimli listedeki tekrar eden elemanları `repeatNumbers` adındaki listeye; tekrar etmeyen elemanları `uniqueNumbers`adındaki listeye kopyalayan yazmanı ve listeleri ekrana bastırmanı bekliyoruz\n",
    "\n",
    "```\n",
    ">Output\n",
    "Tekrar Eden Elemanlar: [10, 10, 15, 15, 15, 20, 20, 20, 20]\n",
    "Tekrar Etmeyen Elemanlar: [5]\n",
    "```"
   ]
  },
  {
   "cell_type": "code",
   "execution_count": null,
   "metadata": {},
   "outputs": [],
   "source": [
    "# 2.Problemin b Şıkkının Çözümünü Buraya Yazınız\n",
    "numbers = [5, 10, 10, 15, 15, 15, 20, 20, 20, 20]\n",
    "repeat_numbers = []         # Tekrar eden sayıların listesi\n",
    "unique_numbers = []         # Tekrar etmeyen sayıların listesi \n",
    "for number in numbers:\n",
    "    if numbers.count(number) > 1: \n",
    "        repeat_numbers.append(number)     # Sisteme girilen sayı birden fazla tekrar ettiyse repeat_numbers setine eklenir.\n",
    "    else:\n",
    "        unique_numbers.append(number)     # Sisteme girilen sayı tekrar etmediyse unique_numbers setine eklenir.\n",
    "        \n",
    "print(\"Listede tekrar eden elemanlar: \" , repeat_numbers)\n",
    "print(\"Listede tekrar etmeyen elemanlar: \", unique_numbers)        "
   ]
  },
  {
   "cell_type": "markdown",
   "metadata": {},
   "source": [
    "# Problem 3\n",
    "sn1 = {1,2,3,4,5}\n",
    "\n",
    "sn2 = {4,5,6,7,8}\n",
    "\n",
    " Verilen 2 adet küme için kesişimlerini, farklarını ve birleşimlerini bulunuz. "
   ]
  },
  {
   "cell_type": "code",
   "execution_count": null,
   "metadata": {},
   "outputs": [],
   "source": [
    "# 3.Problemin Çözümünü Buraya Yazınız\n",
    "sn1 = {1,2,3,4,5}\n",
    "sn2 = {4,5,6,7,8}\n",
    "kesisim = sn1.intersection(sn2)  # 2 kümenin kesişimi #\n",
    "fark_1 = sn1.difference(sn2)     # sn1 - sn2 (sn1’de olup sn2’de olmayan değerleri verir.)\n",
    "fark_2 = sn2.difference(sn1)     # sn2- sn1 (sn2'de olup sn1'de olmayan değerleri verir.) \n",
    "birlesim = sn1.union(sn2)        # 2 kümenin birleşimini alır.\n",
    "\n",
    "print(\"İki kümenin kesişimi: \" , kesisim)\n",
    "print(\"sn1 ve sn2 kümelerinin farkı: ( sn1 - sn2 ) \" , fark_1)\n",
    "print(\"sn2 ve sn1 kümelerinin farkı: ( sn2 - sn1 ) \" , fark_2) \n",
    "print(\"İki kümenin birleşimi: \" , birlesim)"
   ]
  },
  {
   "cell_type": "markdown",
   "metadata": {},
   "source": [
    "# Problem 4\n",
    "\n",
    "Buradaki işlemlerimizin tamamı stringler içindir. Aşağıda verilecek olan metodlar için kendinizin örnek yaratması gerekmektedir. \n",
    "\n",
    "Örneğin `upper` için `string` değişkeni oluştururken` k = \"BAC\"` şeklinde oluşturmayınız. Bunun yerine k değişkenini `k = \"bac`\" şeklinde oluşturmanız `upper` metodundaki değişimi görebilmeniz için daha iyi olacaktır.\n",
    "\n",
    "Bütün metodlardaki değişimin gözle görülür şekilde değişimi beklenmektedir.\n",
    "\n",
    "\n",
    "1- capitalize(), lower(), upper(), swapcase(), title(), replace()\n",
    "\n",
    "2- endswith(), startswith(), find(), index(), count()\n",
    "\n",
    "3- split(), strip(), join(), islower(), isalpha(), isdigit()\n",
    "\n",
    "\n",
    "Yukarıdaki `string` metodlarındaki değişimleri görebildiğimiz bir program yazınız.\n"
   ]
  },
  {
   "cell_type": "code",
   "execution_count": 7,
   "metadata": {},
   "outputs": [
    {
     "name": "stdout",
     "output_type": "stream",
     "text": [
      "Capitalize form:  Hello world!\n",
      "Lower form:  hello world!\n",
      "Upper form:  HELLO WORLD!\n",
      "Swapcase form:  hELLO wORLD!\n",
      "Title form:  Hello World!\n",
      "Replace form:  Hello Python\n",
      "--------------------------------------------------\n",
      "endswith('Core'):  True\n",
      "startswith ('YetGen'):  True\n",
      "Find('hon'):  11\n",
      "index('o')  12\n",
      "Count('e')  3\n",
      "--------------------------------------------------\n",
      "Split:  ['Bu', 'sene', 'Python', 'öğrenmeye', 'başladım.']\n",
      "Strip:   Bu sene Python öğrenmeye başladım. \n",
      "Join:  B-u- -s-e-n-e- -P-y-t-h-o-n- -ö-ğ-r-e-n-m-e-y-e- -b-a-ş-l-a-d-ı-m-.\n",
      "--------------------------------------------------\n",
      "islower(sentence): False\n",
      "isalpha(sentence): True\n",
      "isdigit:  True\n",
      "--------------------------------------------------\n"
     ]
    }
   ],
   "source": [
    "# 4.Problemin Çözümünü Buraya Yazınız\n",
    "text = \"Hello World!\"\n",
    "print(\"Capitalize form: \" , text.capitalize())\n",
    "print(\"Lower form: \" , text.lower())\n",
    "print(\"Upper form: \" , text.upper())\n",
    "print(\"Swapcase form: \" , text.swapcase())\n",
    "print(\"Title form: \" , text.title())\n",
    "print(\"Replace form: \" , text.replace(\"World!\" , \"Python\")) \n",
    "\n",
    "\n",
    "print(\"-\" * 50)\n",
    "\n",
    "\n",
    "text2 = \" YetGen Python Core \"\n",
    "print(\"endswith('Core'): \" , text2.endswith(\" Core \"))\n",
    "print(\"startswith ('YetGen'): \" , text2.startswith(\" YetGen \"))\n",
    "print(\"Find('hon'): \" , text2.find(\"hon\") )\n",
    "print(\"index('o') \" , text2.index(\"o\"))\n",
    "print(\"Count('e') \" , text2.count(\"e\"))\n",
    "\n",
    "\n",
    "print(\"-\" * 50)\n",
    "\n",
    "\n",
    "text3 = \"Bu sene Python öğrenmeye başladım.\"\n",
    "result_split = text3.split()    # Bir karakterle ayırmak istersen parantez içine o karateri yaz. \n",
    "print(\"Split: \" , result_split)\n",
    "\n",
    "text4 = \"###### Bu sene Python öğrenmeye başladım. #####\"\n",
    "result_strip = text4.strip(\"#\")\n",
    "print(\"Strip: \" , result_strip)\n",
    "\n",
    "\n",
    "text3 =  \"Bu sene Python öğrenmeye başladım.\"\n",
    "result_join =  \"-\".join(text3)\n",
    "print(\"Join: \" , result_join)\n",
    "\n",
    "\n",
    "print(\"-\" * 50)\n",
    "\n",
    "\n",
    "text5 = \"Merhaba\"\n",
    "print(\"islower(sentence):\", text5.islower()) \n",
    "\n",
    "\n",
    "text5 = \"Merhaba\"\n",
    "print(\"isalpha(sentence):\", text5.isalpha()) \n",
    "\n",
    "\n",
    "text6 = \"123456\"\n",
    "print(\"isdigit: \" , text6.isdigit())\n",
    "\n",
    "\n",
    "print(\"-\" * 50)"
   ]
  }
 ],
 "metadata": {
  "kernelspec": {
   "display_name": "Python 3",
   "language": "python",
   "name": "python3"
  },
  "language_info": {
   "codemirror_mode": {
    "name": "ipython",
    "version": 3
   },
   "file_extension": ".py",
   "mimetype": "text/x-python",
   "name": "python",
   "nbconvert_exporter": "python",
   "pygments_lexer": "ipython3",
   "version": "3.13.2"
  },
  "orig_nbformat": 4
 },
 "nbformat": 4,
 "nbformat_minor": 2
}
