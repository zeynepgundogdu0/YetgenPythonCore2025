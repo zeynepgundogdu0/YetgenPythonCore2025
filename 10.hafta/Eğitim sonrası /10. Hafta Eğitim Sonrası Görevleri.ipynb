{
 "cells": [
  {
   "attachments": {},
   "cell_type": "markdown",
   "metadata": {},
   "source": [
    "# Problem 1 "
   ]
  },
  {
   "cell_type": "code",
   "execution_count": null,
   "metadata": {},
   "outputs": [],
   "source": [
    "# 1 - numpy kütüphanesini import edin\n",
    "\n",
    "import numpy as np\n",
    "\n",
    "# 2 - 5 elemanlı bir numpy array oluşturun\n",
    "\n",
    "array = np.array([47, 4, 11, 9, 26])\n",
    "print(array)\n",
    "\n",
    "# 3 - Oluşturduğunuz arrayi küçükten büyüğe sıralayın.\n",
    "\n",
    "sorted_array = np.sort(array)\n",
    "print(\"Sıralanmış dizi:\", sorted_array)\n",
    "\n"
   ]
  },
  {
   "attachments": {},
   "cell_type": "markdown",
   "metadata": {},
   "source": [
    "# Problem 2"
   ]
  },
  {
   "cell_type": "code",
   "execution_count": null,
   "metadata": {},
   "outputs": [],
   "source": [
    "import numpy as np\n",
    "\n",
    "# 1- (10,15,30,45,60) değerlerine sahip numpy dizisi oluşturunuz.\n",
    "array1 = np.array([10, 15, 30, 45, 60])\n",
    "print(\"1. Sorunun cevabı:\", array1)\n",
    "\n",
    "# 2- (5-15) arasındaki sayılarla numpy dizisi oluşturunuz.\n",
    "array2 = np.arange(5, 16)\n",
    "print(\"2. Sorunun cevabı:\", array2)\n",
    "\n",
    "# 3- (50-100) arasında 5'er 5'er artarak numpy dizisi oluşturunuz.\n",
    "array3 = np.arange(50, 101, 5)\n",
    "print(\"3. Sorunun cevabı:\", array3)\n",
    "\n",
    "# 4- 10 elemanlı sıfırlardan oluşan bir dizi oluşturunuz.\n",
    "array4 = np.zeros(10)\n",
    "print(\"4. Sorunun cevabı:\", array4)\n",
    "\n",
    "# 5- 10 elemanlı birlerden oluşan bir dizi oluşturunuz.\n",
    "array5 = np.ones(10)\n",
    "print(\"5. Sorunun cevabı:\", array5)\n",
    "\n",
    "# 6- (0-100) arasında eşit aralıklı 5 sayı üretin.\n",
    "array6 = np.linspace(0, 100, 5)\n",
    "print(\"6.Sorunun cevabı:\", array6)\n",
    "\n",
    "# 7- (10-30) arasında rastgele 5 tane tamsayı üretin.\n",
    "array7 = np.random.randint(10, 31, 5)\n",
    "print(\"7.Sorunun cevabı:\", array7)\n",
    "\n",
    "# 8- [-1 ile 1] arasında 10 adet sayı üretin.\n",
    "array8 = np.random.uniform(-1, 1, 10)\n",
    "print(\"8.Sorunun cevabı:\", array8)\n",
    "\n",
    "# 9- (3x5) boyutlarında (10-50) arasında rastgele bir matris oluşturunuz.\n",
    "matrix = np.random.randint(10, 51, (3, 5))\n",
    "print(\"9. Soru: \\n\", matrix)\n",
    "# 10- Üretilen matrisin satır ve sütun sayıları toplamlarını hesaplayınız ?\n",
    "sıra_toplam = np.sum(matrix, axis=1)\n",
    "sutun_toplam = np.sum(matrix, axis=0)\n",
    "print(\"Satır Toplamı:\", sıra_toplam)\n",
    "print(\"Sütun Toplamı:\", sutun_toplam)\n",
    "\n",
    "# 11- Üretilen matrisin en büyük, en küçük ve ortalaması nedir ?\n",
    "max_val = np.max(matrix)\n",
    "min_val = np.min(matrix)\n",
    "mean_val = np.mean(matrix)\n",
    "print(\"Max değeri:\", max_val, \"Min değeri:\", min_val, \"Ortalama:\", mean_val)\n",
    "\n",
    "# 12- Üretilen matrisin en büyük değerinin indeksi kaçtır ?\n",
    "max_index = np.unravel_index(np.argmax(matrix), matrix.shape)\n",
    "print(\"Max İndeksi:\", max_index)\n",
    "\n",
    "# 13- (10-20) arasındaki sayıları içeren dizinin ilk 3 elemanını seçiniz.\n",
    "range_array = np.arange(10, 21)\n",
    "first_three = range_array[:3]\n",
    "print(\"İlk 3:\", first_three)\n",
    "\n",
    "# 14- Üretilen dizinin elemanlarını tersten yazdırın.\n",
    "reversed_array = range_array[::-1]\n",
    "print(\"Ters:\", reversed_array)\n",
    "\n",
    "# 15- Üretilen matrisin ilk satırını seçiniz.\n",
    "ilk_satir = matrix[0]\n",
    "print(\"İlk Satır:\", ilk_satir)\n",
    "\n",
    "# 16- Üretilen matrisin 2.satır 3.sütundaki elemanı hangisidir ?\n",
    "eleman = matrix[1, 2]\n",
    "print(\"2. Satır, 3. Sütun:\", eleman)\n",
    "\n",
    "# 17- Üretilen matrisin tüm satırlardaki ilk elemanı seçiniz.\n",
    "tum_satir = matrix[:, 0]\n",
    "print(\"Tüm Satırların İlk Elemanı:\", tum_satir)\n",
    "\n",
    "# 18- Üretilen matrisin her bir elemanının karesini alınız.\n",
    "squared_matrix = matrix**2\n",
    "print(\"Kareleri:\\n\", squared_matrix)\n",
    "\n",
    "# 19- Üretilen matris elemanlarının hangisi pozitif çift sayıdır ? Aralığı (-50,+50) arasında yapınız.\n",
    "matrix_2 = np.random.randint(-50, 51, (3, 5))\n",
    "positive_even = matrix_2[(matrix_2 > 0) & (matrix_2 % 2 == 0)]\n",
    "print(\"Matris:\\n\", matrix_2)\n",
    "print(\"Pozitif çift sayılar:\", positive_even)"
   ]
  }
 ],
 "metadata": {
  "kernelspec": {
   "display_name": "Python 3",
   "language": "python",
   "name": "python3"
  },
  "language_info": {
   "codemirror_mode": {
    "name": "ipython",
    "version": 3
   },
   "file_extension": ".py",
   "mimetype": "text/x-python",
   "name": "python",
   "nbconvert_exporter": "python",
   "pygments_lexer": "ipython3",
   "version": "3.13.2"
  },
  "orig_nbformat": 4,
  "vscode": {
   "interpreter": {
    "hash": "5026d2d6e7aaaaba093def813beadff083d8733e4a511af01735cbabd156995d"
   }
  }
 },
 "nbformat": 4,
 "nbformat_minor": 2
}
