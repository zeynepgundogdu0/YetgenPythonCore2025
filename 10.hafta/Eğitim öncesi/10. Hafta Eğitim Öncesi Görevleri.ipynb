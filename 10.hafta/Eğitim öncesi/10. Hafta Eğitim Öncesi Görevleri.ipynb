{
 "cells": [
  {
   "attachments": {},
   "cell_type": "markdown",
   "metadata": {},
   "source": [
    "# Problem 1"
   ]
  },
  {
   "cell_type": "code",
   "execution_count": null,
   "metadata": {},
   "outputs": [],
   "source": [
    "# 1 - numpy kütüphanesini import edin\n",
    "\n",
    "import numpy as np\n",
    "\n",
    "\n",
    "# 2 - 0 ile 10 arasında 5 sayıdan oluşan matris üretin\n",
    "\n",
    "matrix = np.random.randint(0, 10, size=5)\n",
    "print(\"Matrix:\", matrix)\n",
    "\n",
    "# 3 - matris'in boyutunu öğrenin\n",
    "\n",
    "print(\"Matrix boyutu (shape):\", matrix.shape)\n",
    "\n",
    "\n",
    "# 4 - matris'i yeniden boyutlandırın\n",
    "\n",
    "matrix = matrix.reshape((5, 1))\n",
    "print(\"Yeniden boyutlandırılmış matrix:\\n\", matrix)\n",
    "\n",
    "# 5 - matris'in boyut sayısını öğrenin\n",
    "\n",
    "print(\"Matrixin boyut sayısı (ndim):\", matrix.ndim)\n",
    "\n"
   ]
  },
  {
   "attachments": {},
   "cell_type": "markdown",
   "metadata": {},
   "source": [
    "# Problem 2"
   ]
  },
  {
   "cell_type": "code",
   "execution_count": null,
   "metadata": {},
   "outputs": [],
   "source": [
    "# 1 - 0 ile 10 arasında bulunan tek sayılardan oluşan matris üretin\n",
    "\n",
    "\n",
    "import numpy as np\n",
    "\n",
    "odd_number = np.arange(1, 10, 2)\n",
    "print(\"Tek sayılardan oluşan matris:\", odd_number)\n",
    "\n",
    "\n",
    "# 2 - Oluşturduğunuz matrisi parçalayın\n",
    "\n",
    "parca_x, parca_y = np.split(odd_number, 2)\n",
    "print(\"1. Parça:\", parca_x)\n",
    "print(\"2. Parça:\", parca_y)\n",
    "\n",
    "# 3 - Parçalanmış matrisleri birleştirin\n",
    "\n",
    "birlesim = np.concatenate((parca_x, parca_y))\n",
    "print(\"Birleşim matrisi:\", birlesim)\n"
   ]
  },
  {
   "attachments": {},
   "cell_type": "markdown",
   "metadata": {},
   "source": [
    "# Problem 3"
   ]
  },
  {
   "cell_type": "code",
   "execution_count": null,
   "metadata": {},
   "outputs": [],
   "source": [
    "# 1 - 5 ile 100 arasında ikişer ikişer atlayarak rastgele 10 sayıdan oluşan matris üretin\n",
    "\n",
    "import numpy as np\n",
    "\n",
    "sayilar = np.arange(5, 100, 2)\n",
    "matrix = np.random.choice(sayilar, size=10, replace=False)\n",
    "print(\"Oluşturulan matrix:\", matrix)\n",
    "\n",
    "# 2 - matris'in özelliklerini inceleyin\n",
    "\n",
    "print(\"Matrix boyutu (shape):\", matrix.shape)\n",
    "print(\"Matrix veri tipi (dtype):\", matrix.dtype)\n",
    "print(\"Matrix eleman sayısı (size):\", matrix.size)\n",
    "print(\"Matrix boyutu sayısı (ndim):\", matrix.ndim)"
   ]
  }
 ],
 "metadata": {
  "kernelspec": {
   "display_name": "Python 3",
   "language": "python",
   "name": "python3"
  },
  "language_info": {
   "codemirror_mode": {
    "name": "ipython",
    "version": 3
   },
   "file_extension": ".py",
   "mimetype": "text/x-python",
   "name": "python",
   "nbconvert_exporter": "python",
   "pygments_lexer": "ipython3",
   "version": "3.13.2"
  },
  "orig_nbformat": 4,
  "vscode": {
   "interpreter": {
    "hash": "5026d2d6e7aaaaba093def813beadff083d8733e4a511af01735cbabd156995d"
   }
  }
 },
 "nbformat": 4,
 "nbformat_minor": 2
}
